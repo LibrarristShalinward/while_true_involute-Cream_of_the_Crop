{
 "cells": [
  {
   "cell_type": "markdown",
   "source": [
    "正确的训练命令：\r\n",
    "\r\n",
    "` python ./tools/main.py test .\\experiments\\configs\\test\\test.yaml `"
   ],
   "metadata": {}
  },
  {
   "cell_type": "code",
   "execution_count": 1,
   "source": [
    "import os\r\n",
    "\"copy {} {}\".format(\"./experiments/configs/test/test.yaml\", os.path.join(\"./experiments/workspace/test\", 'config.yaml'))"
   ],
   "outputs": [
    {
     "output_type": "execute_result",
     "data": {
      "text/plain": [
       "'copy ./experiments/configs/test/test.yaml ./experiments/workspace/test\\\\config.yaml'"
      ]
     },
     "metadata": {},
     "execution_count": 1
    }
   ],
   "metadata": {}
  }
 ],
 "metadata": {
  "orig_nbformat": 4,
  "language_info": {
   "name": "python",
   "version": "3.8.1",
   "mimetype": "text/x-python",
   "codemirror_mode": {
    "name": "ipython",
    "version": 3
   },
   "pygments_lexer": "ipython3",
   "nbconvert_exporter": "python",
   "file_extension": ".py"
  },
  "kernelspec": {
   "name": "python3",
   "display_name": "Python 3.8.1 64-bit"
  },
  "interpreter": {
   "hash": "9c4178638202bf36d847b6f9758ad492f78e3205c6ec371305eb925a87dfd87d"
  }
 },
 "nbformat": 4,
 "nbformat_minor": 2
}