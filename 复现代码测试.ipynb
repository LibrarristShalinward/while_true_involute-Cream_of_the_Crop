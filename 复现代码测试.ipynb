{
 "cells": [
  {
   "cell_type": "markdown",
   "source": [
    "<font size = 10>\r\n",
    "\r\n",
    "# pimm依赖"
   ],
   "metadata": {}
  },
  {
   "cell_type": "markdown",
   "source": [
    "## ***data系列***"
   ],
   "metadata": {}
  },
  {
   "cell_type": "markdown",
   "source": [
    "<font size = 3>\r\n",
    "\r\n",
    "### pimm.data.Dataset 与 pimm.data.create_loader"
   ],
   "metadata": {}
  },
  {
   "cell_type": "markdown",
   "source": [
    "#### - import测试"
   ],
   "metadata": {}
  },
  {
   "cell_type": "code",
   "execution_count": null,
   "source": [
    "from Paddle_Cream.lib.utils.pimm.data import Dataset, create_loader"
   ],
   "outputs": [],
   "metadata": {}
  },
  {
   "cell_type": "markdown",
   "source": [
    "#### - 测试主要方法与函数运行"
   ],
   "metadata": {}
  },
  {
   "cell_type": "code",
   "execution_count": null,
   "source": [
    "dataset_eval = Dataset(\"Cream/data/imagenet/val\")"
   ],
   "outputs": [],
   "metadata": {}
  },
  {
   "cell_type": "code",
   "execution_count": null,
   "source": [
    "loader_eval = create_loader(\r\n",
    "        dataset_eval,\r\n",
    "        input_size = (3, 224, 224),\r\n",
    "        batch_size = 4 * 32,\r\n",
    "        is_training = True,\r\n",
    "        num_workers = 4,\r\n",
    "        distributed = False,\r\n",
    "        interpolation = 'bicubic',\r\n",
    "        crop_pct = 0.875,\r\n",
    "        mean = (0.485, 0.456, 0.406),\r\n",
    "        std = (0.229, 0.224, 0.225))"
   ],
   "outputs": [],
   "metadata": {}
  },
  {
   "cell_type": "markdown",
   "source": [
    "#### - 输出值测试"
   ],
   "metadata": {}
  },
  {
   "cell_type": "code",
   "execution_count": null,
   "source": [
    "for _, (input, _) in enumerate(loader_eval):\r\n",
    "    break\r\n",
    "print(input)"
   ],
   "outputs": [],
   "metadata": {}
  },
  {
   "cell_type": "markdown",
   "source": [
    "## ***loss系列***"
   ],
   "metadata": {}
  },
  {
   "cell_type": "markdown",
   "source": [
    "<font size = \"3\">\r\n",
    "\r\n",
    "### pimm.loss.LabelSmoothingCrossEntropy"
   ],
   "metadata": {}
  },
  {
   "cell_type": "markdown",
   "source": [
    "#### - import测试"
   ],
   "metadata": {}
  },
  {
   "cell_type": "code",
   "execution_count": null,
   "source": [
    "from Paddle_Cream.lib.utils.pimm.loss import LabelSmoothingCrossEntropy"
   ],
   "outputs": [],
   "metadata": {}
  },
  {
   "cell_type": "markdown",
   "source": [
    "#### - 测试方法创建"
   ],
   "metadata": {}
  },
  {
   "cell_type": "code",
   "execution_count": null,
   "source": [
    "pd_fun = LabelSmoothingCrossEntropy()"
   ],
   "outputs": [],
   "metadata": {}
  },
  {
   "cell_type": "markdown",
   "source": [
    "#### - 前向对齐测试"
   ],
   "metadata": {}
  },
  {
   "cell_type": "code",
   "execution_count": null,
   "source": [
    "import numpy as np"
   ],
   "outputs": [],
   "metadata": {}
  },
  {
   "cell_type": "code",
   "execution_count": null,
   "source": [
    "output = np.random.rand(100,20)\r\n",
    "target = np.random.randint(low = 0, high = 20, size = (100))\r\n",
    "for i in range(100):\r\n",
    "    output[i][target[i]] += 10\r\n",
    "    output[i] /= output[i].sum()"
   ],
   "outputs": [],
   "metadata": {}
  },
  {
   "cell_type": "code",
   "execution_count": null,
   "source": [
    "import paddle\r\n",
    "pd_loss = pd_fun(\r\n",
    "    paddle.to_tensor(output, dtype = \"float32\"), \r\n",
    "    paddle.to_tensor(target))\r\n",
    "print(pd_loss)"
   ],
   "outputs": [],
   "metadata": {}
  },
  {
   "cell_type": "code",
   "execution_count": null,
   "source": [
    "import torch\r\n",
    "import torch.nn as nn\r\n",
    "import torch.nn.functional as F\r\n",
    "class LabelSmoothingCrossEntropy(nn.Module):\r\n",
    "    def __init__(self, smoothing=0.1):\r\n",
    "        super(LabelSmoothingCrossEntropy, self).__init__()\r\n",
    "        assert smoothing < 1.0\r\n",
    "        self.smoothing = smoothing\r\n",
    "        self.confidence = 1. - smoothing\r\n",
    "\r\n",
    "    def forward(self, x, target):\r\n",
    "        logprobs = F.log_softmax(x, dim=-1)\r\n",
    "        nll_loss = -logprobs.gather(dim=-1, index=target.unsqueeze(1))\r\n",
    "        nll_loss = nll_loss.squeeze(1)\r\n",
    "        smooth_loss = -logprobs.mean(dim=-1)\r\n",
    "        loss = self.confidence * nll_loss + self.smoothing * smooth_loss\r\n",
    "        return loss.mean()"
   ],
   "outputs": [],
   "metadata": {}
  },
  {
   "cell_type": "code",
   "execution_count": null,
   "source": [
    "index = torch.from_numpy(target).type_as(torch.zeros((2,2), dtype = torch.int64))\r\n",
    "tc_loss = LabelSmoothingCrossEntropy()(\r\n",
    "    torch.from_numpy(output), \r\n",
    "    index)\r\n",
    "print(tc_loss)"
   ],
   "outputs": [],
   "metadata": {}
  },
  {
   "cell_type": "markdown",
   "source": [
    "## ***models.effcientnet_blocks系列***"
   ],
   "metadata": {}
  },
  {
   "cell_type": "markdown",
   "source": [
    "#### - import测试"
   ],
   "metadata": {}
  },
  {
   "cell_type": "code",
   "execution_count": null,
   "source": [
    "from Paddle_Cream.lib.utils.pimm.models.efficientnet_blocks import ConvBnAct, DepthwiseSeparableConv, drop_path, InvertedResidual,SqueezeExcite"
   ],
   "outputs": [],
   "metadata": {}
  },
  {
   "cell_type": "markdown",
   "source": [
    "<font size = 3>\r\n",
    "\r\n",
    "### pimm.models.effcientnet_blocks.ConvBnAct"
   ],
   "metadata": {}
  },
  {
   "cell_type": "markdown",
   "source": [
    "#### - 网络创建"
   ],
   "metadata": {}
  },
  {
   "cell_type": "code",
   "execution_count": null,
   "source": [
    "conv_bn_act = ConvBnAct(in_chs = 3, out_chs = 8, kernel_size = 3)"
   ],
   "outputs": [],
   "metadata": {}
  },
  {
   "cell_type": "markdown",
   "source": [
    "#### - 网络组网与运行测试"
   ],
   "metadata": {}
  },
  {
   "cell_type": "code",
   "execution_count": null,
   "source": [
    "import paddle\r\n",
    "conv_bn_act_model = paddle.Model(conv_bn_act)\r\n",
    "conv_bn_act_model.summary(input_size = (10, 3, 224, 224))"
   ],
   "outputs": [],
   "metadata": {}
  },
  {
   "cell_type": "code",
   "execution_count": null,
   "source": [
    "class ConvBnAct_Model(paddle.nn.Layer):\r\n",
    "    def __init__(self) -> None:\r\n",
    "        super(ConvBnAct_Model, self).__init__()\r\n",
    "        self.core = ConvBnAct(in_chs = 3, out_chs = 8, kernel_size = 3)\r\n",
    "    \r\n",
    "    @paddle.jit.to_static\r\n",
    "    def forward(self, x):\r\n",
    "        return self.core(x)\r\n",
    "\r\n",
    "conv_bn_act_model = ConvBnAct_Model()\r\n",
    "conv_bn_act_model.eval()\r\n",
    "\r\n",
    "conv_bn_act_model(paddle.randn((10, 3, 224, 224)))"
   ],
   "outputs": [],
   "metadata": {}
  },
  {
   "cell_type": "markdown",
   "source": [
    "<font size = 3>\r\n",
    "\r\n",
    "### pimm.models.effcientnet_blocks.DepthwiseSeparableConv"
   ],
   "metadata": {}
  },
  {
   "cell_type": "markdown",
   "source": [
    "#### - 网络创建"
   ],
   "metadata": {}
  },
  {
   "cell_type": "code",
   "execution_count": null,
   "source": [
    "dsc = DepthwiseSeparableConv(in_chs = 8, out_chs = 3)"
   ],
   "outputs": [],
   "metadata": {}
  },
  {
   "cell_type": "markdown",
   "source": [
    "#### - 网络组网与运行测试"
   ],
   "metadata": {}
  },
  {
   "cell_type": "code",
   "execution_count": null,
   "source": [
    "import paddle\r\n",
    "dsc_model = paddle.Model(dsc)\r\n",
    "dsc_model.summary(input_size = (1, 8, 224, 224))"
   ],
   "outputs": [],
   "metadata": {}
  },
  {
   "cell_type": "code",
   "execution_count": null,
   "source": [
    "import paddle\r\n",
    "class DSC_Model(paddle.nn.Layer):\r\n",
    "    def __init__(self) -> None:\r\n",
    "        super(DSC_Model, self).__init__()\r\n",
    "        self.core = DepthwiseSeparableConv(in_chs = 8, out_chs = 3)\r\n",
    "    \r\n",
    "    @paddle.jit.to_static\r\n",
    "    def forward(self, x):\r\n",
    "        return self.core(x)\r\n",
    "\r\n",
    "dsc_model = DSC_Model()\r\n",
    "dsc_model.eval()\r\n",
    "\r\n",
    "dsc_model(paddle.randn((10, 8, 224, 224)))"
   ],
   "outputs": [],
   "metadata": {}
  },
  {
   "cell_type": "markdown",
   "source": [
    "<font size = 3>\r\n",
    "\r\n",
    "### pimm.models.effcientnet_blocks.drop_path"
   ],
   "metadata": {}
  },
  {
   "cell_type": "code",
   "execution_count": null,
   "source": [
    "import paddle\r\n",
    "test_Tensor = paddle.randn((16, 3, 224, 224))\r\n",
    "drop_path(test_Tensor)"
   ],
   "outputs": [],
   "metadata": {}
  },
  {
   "cell_type": "markdown",
   "source": [
    "<font size = 3>\r\n",
    "\r\n",
    "### pimm.models.effcientnet_blocks.InvertedResidual"
   ],
   "metadata": {}
  },
  {
   "cell_type": "markdown",
   "source": [
    "#### - 网络创建"
   ],
   "metadata": {}
  },
  {
   "cell_type": "code",
   "execution_count": null,
   "source": [
    "ir = InvertedResidual(in_chs = 8, out_chs = 3)"
   ],
   "outputs": [],
   "metadata": {}
  },
  {
   "cell_type": "markdown",
   "source": [
    "#### - 网络组网与运行测试"
   ],
   "metadata": {}
  },
  {
   "cell_type": "code",
   "execution_count": null,
   "source": [
    "import paddle\r\n",
    "ir_model = paddle.Model(ir)\r\n",
    "ir_model.summary(input_size = (16, 8, 224, 224))"
   ],
   "outputs": [],
   "metadata": {}
  },
  {
   "cell_type": "code",
   "execution_count": null,
   "source": [
    "import paddle\r\n",
    "class IR_Model(paddle.nn.Layer):\r\n",
    "    def __init__(self) -> None:\r\n",
    "        super(IR_Model, self).__init__()\r\n",
    "        self.core = InvertedResidual(in_chs = 8, out_chs = 3)\r\n",
    "    \r\n",
    "    @paddle.jit.to_static\r\n",
    "    def forward(self, x):\r\n",
    "        return self.core(x)\r\n",
    "\r\n",
    "ir_model = IR_Model()\r\n",
    "ir_model.eval()\r\n",
    "\r\n",
    "ir_model(paddle.randn((16, 8, 224, 224)))"
   ],
   "outputs": [],
   "metadata": {}
  },
  {
   "cell_type": "markdown",
   "source": [
    "<font size = 3>\r\n",
    "\r\n",
    "### pimm.models.effcientnet_blocks.InvertedResidual"
   ],
   "metadata": {}
  },
  {
   "cell_type": "markdown",
   "source": [
    "#### - 网络创建"
   ],
   "metadata": {}
  },
  {
   "cell_type": "code",
   "execution_count": null,
   "source": [
    "se = SqueezeExcite(in_chs = 8)"
   ],
   "outputs": [],
   "metadata": {}
  },
  {
   "cell_type": "markdown",
   "source": [
    "#### - 网络组网与运行测试"
   ],
   "metadata": {}
  },
  {
   "cell_type": "code",
   "execution_count": null,
   "source": [
    "import paddle\r\n",
    "se_model = paddle.Model(se)\r\n",
    "se_model.summary(input_size = (16, 8, 224, 224))"
   ],
   "outputs": [],
   "metadata": {}
  },
  {
   "cell_type": "code",
   "execution_count": null,
   "source": [
    "import paddle\r\n",
    "class SE_Model(paddle.nn.Layer):\r\n",
    "    def __init__(self) -> None:\r\n",
    "        super(SE_Model, self).__init__()\r\n",
    "        self.core = SqueezeExcite(in_chs = 8)\r\n",
    "    \r\n",
    "    @paddle.jit.to_static\r\n",
    "    def forward(self, x):\r\n",
    "        return self.core(x)\r\n",
    "\r\n",
    "se_model = SE_Model()\r\n",
    "se_model.eval()\r\n",
    "\r\n",
    "se_model(paddle.randn((16, 8, 224, 224)))"
   ],
   "outputs": [],
   "metadata": {}
  },
  {
   "cell_type": "markdown",
   "source": [
    "## ***models.activations系列***"
   ],
   "metadata": {}
  },
  {
   "cell_type": "markdown",
   "source": [
    "#### - import测试"
   ],
   "metadata": {}
  },
  {
   "cell_type": "code",
   "execution_count": null,
   "source": [
    "from Paddle_Cream.lib.utils.pimm.models.activations import hard_sigmoid, Swish"
   ],
   "outputs": [],
   "metadata": {}
  },
  {
   "cell_type": "markdown",
   "source": [
    "<font size = 3>\r\n",
    "\r\n",
    "### pimm.models.activations.hard_sigmoid"
   ],
   "metadata": {}
  },
  {
   "cell_type": "code",
   "execution_count": null,
   "source": [
    "import paddle\r\n",
    "import numpy as np\r\n",
    "hard_sigmoid(paddle.to_tensor(np.linspace(0., 10.)))"
   ],
   "outputs": [],
   "metadata": {}
  },
  {
   "cell_type": "markdown",
   "source": [
    "<font size = 3>\r\n",
    "\r\n",
    "### pimm.models.activations.Swish"
   ],
   "metadata": {}
  },
  {
   "cell_type": "code",
   "execution_count": null,
   "source": [
    "import paddle\r\n",
    "import numpy as np\r\n",
    "swish = Swish()\r\n",
    "swish(paddle.to_tensor(np.linspace(0., 10.)))"
   ],
   "outputs": [],
   "metadata": {}
  },
  {
   "cell_type": "markdown",
   "source": [
    "## ***models系列（其他函数与类）***"
   ],
   "metadata": {}
  },
  {
   "cell_type": "markdown",
   "source": [
    "<font size = 3>\r\n",
    "\r\n",
    "### pimm.models.utils.create_conv2d"
   ],
   "metadata": {}
  },
  {
   "cell_type": "markdown",
   "source": [
    "#### - import测试"
   ],
   "metadata": {}
  },
  {
   "cell_type": "code",
   "execution_count": null,
   "source": [
    "from Paddle_Cream.lib.utils.pimm.models import create_conv2d"
   ],
   "outputs": [],
   "metadata": {}
  },
  {
   "cell_type": "markdown",
   "source": [
    "#### - 调用测试"
   ],
   "metadata": {}
  },
  {
   "cell_type": "code",
   "execution_count": null,
   "source": [
    "Conv_2D = []\r\n",
    "Conv_2D.append(create_conv2d(in_chs = 8, out_chs = 3, kernel_size = [3, 5, 7]))\r\n",
    "Conv_2D.append(create_conv2d(in_chs = 8, out_chs = 3, kernel_size = 5, num_experts = 3))\r\n",
    "Conv_2D.append(create_conv2d(in_chs = 8, out_chs = 3, kernel_size = 5))"
   ],
   "outputs": [],
   "metadata": {}
  },
  {
   "cell_type": "markdown",
   "source": [
    "#### - 网络结构检查"
   ],
   "metadata": {}
  },
  {
   "cell_type": "code",
   "execution_count": null,
   "source": [
    "import paddle\r\n",
    "for module in (Conv_2D[0], Conv_2D[2]):\r\n",
    "    model_test = paddle.Model(module)\r\n",
    "    model_test.summary(input_size = (16, 8, 224, 224))\r\n",
    "    del model_test"
   ],
   "outputs": [],
   "metadata": {}
  }
 ],
 "metadata": {
  "orig_nbformat": 4,
  "language_info": {
   "name": "python",
   "version": "3.8.1",
   "mimetype": "text/x-python",
   "codemirror_mode": {
    "name": "ipython",
    "version": 3
   },
   "pygments_lexer": "ipython3",
   "nbconvert_exporter": "python",
   "file_extension": ".py"
  },
  "kernelspec": {
   "name": "python3",
   "display_name": "Python 3.8.1 64-bit"
  },
  "interpreter": {
   "hash": "9c4178638202bf36d847b6f9758ad492f78e3205c6ec371305eb925a87dfd87d"
  }
 },
 "nbformat": 4,
 "nbformat_minor": 2
}